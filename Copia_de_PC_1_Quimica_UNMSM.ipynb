{
  "nbformat": 4,
  "nbformat_minor": 0,
  "metadata": {
    "colab": {
      "provenance": [],
      "include_colab_link": true
    },
    "kernelspec": {
      "name": "python3",
      "display_name": "Python 3"
    },
    "language_info": {
      "name": "python"
    },
    "widgets": {
      "application/vnd.jupyter.widget-state+json": {
        "d4691835f4474884829213796343340f": {
          "model_module": "faerun-notebook",
          "model_name": "SmilesDrawerModel",
          "model_module_version": "^0.1.5",
          "state": {
            "_dom_classes": [],
            "_model_module": "faerun-notebook",
            "_model_module_version": "^0.1.5",
            "_model_name": "SmilesDrawerModel",
            "_view_count": null,
            "_view_module": "faerun-notebook",
            "_view_module_version": "^0.1.5",
            "_view_name": "SmilesDrawerView",
            "background": "#1e1e1e",
            "border": true,
            "layout": "IPY_MODEL_35b7ce94b6e84d4c985918e50984dcd7",
            "options": {
              "scale": 1.25
            },
            "output": "svg",
            "theme": "dark",
            "value": [
              [
                "Rxn",
                "C(C1C(C(C(C(O1)O)O)O)O)O.O=O>>C(=O)=O.O"
              ]
            ]
          }
        },
        "35b7ce94b6e84d4c985918e50984dcd7": {
          "model_module": "@jupyter-widgets/base",
          "model_name": "LayoutModel",
          "model_module_version": "1.2.0",
          "state": {
            "_model_module": "@jupyter-widgets/base",
            "_model_module_version": "1.2.0",
            "_model_name": "LayoutModel",
            "_view_count": null,
            "_view_module": "@jupyter-widgets/base",
            "_view_module_version": "1.2.0",
            "_view_name": "LayoutView",
            "align_content": null,
            "align_items": null,
            "align_self": null,
            "border": null,
            "bottom": null,
            "display": null,
            "flex": null,
            "flex_flow": null,
            "grid_area": null,
            "grid_auto_columns": null,
            "grid_auto_flow": null,
            "grid_auto_rows": null,
            "grid_column": null,
            "grid_gap": null,
            "grid_row": null,
            "grid_template_areas": null,
            "grid_template_columns": null,
            "grid_template_rows": null,
            "height": null,
            "justify_content": null,
            "justify_items": null,
            "left": null,
            "margin": null,
            "max_height": null,
            "max_width": null,
            "min_height": null,
            "min_width": null,
            "object_fit": null,
            "object_position": null,
            "order": null,
            "overflow": null,
            "overflow_x": null,
            "overflow_y": null,
            "padding": null,
            "right": null,
            "top": null,
            "visibility": null,
            "width": null
          }
        }
      }
    }
  },
  "cells": [
    {
      "cell_type": "markdown",
      "metadata": {
        "id": "view-in-github",
        "colab_type": "text"
      },
      "source": [
        "<a href=\"https://colab.research.google.com/github/Fabianpastorjallo/practica_1_quimica_2023/blob/main/Copia_de_PC_1_Quimica_UNMSM.ipynb\" target=\"_parent\"><img src=\"https://colab.research.google.com/assets/colab-badge.svg\" alt=\"Open In Colab\"/></a>"
      ]
    },
    {
      "cell_type": "markdown",
      "source": [
        "$$\\Large \\textit{UNMSM | Química}$$\n",
        "$$\\large \\textbf{PC Nº1 | Materia y clasificación}$$\n",
        "\n",
        "_Profesor: Jesus Alvarado Huayhuaz_"
      ],
      "metadata": {
        "id": "sDJAjbaQOj4x"
      }
    },
    {
      "cell_type": "markdown",
      "source": [
        "Todas las indicaciones para la presentación de la práctica son explicadas en clase y brindadas en el material de enunciado de preguntas en formato PDF."
      ],
      "metadata": {
        "id": "_DsTzWLoP7Fy"
      }
    },
    {
      "cell_type": "markdown",
      "source": [
        "Nombre: Fabian Luis Pastor Jallo\n",
        "\n",
        "Seccion: 3\n"
      ],
      "metadata": {
        "id": "kAxPyIGPaw-s"
      }
    },
    {
      "cell_type": "markdown",
      "source": [
        "## Pregunta 1: Sobre el ABC de python (4 puntos)"
      ],
      "metadata": {
        "id": "obD7c2igOD6t"
      }
    },
    {
      "cell_type": "markdown",
      "source": [
        "Durante la semana de revisión del material \"ABC de python\", reflexiona sobre qué conceptos aprendiste con claridad y cuáles consideras los más desafiantes. A continuación resuelve los siguiente ejercicios, puedes ayudarte del material en http://bit.ly/3YKICSZ."
      ],
      "metadata": {
        "id": "emt93S7dL7QH"
      }
    },
    {
      "cell_type": "code",
      "source": [
        "# Imprime la versión de python que usas y las palabras reservadas de python para esa versión."
      ],
      "metadata": {
        "id": "6mJvqMN0LTU8"
      },
      "execution_count": null,
      "outputs": []
    },
    {
      "cell_type": "code",
      "source": [
        "import sys\n",
        "print(\"Versión de Python:\", sys.version)\n"
      ],
      "metadata": {
        "id": "WB0jm25VFA9y",
        "outputId": "8e9e3cb5-1565-4c13-87b2-478dcbac61d5",
        "colab": {
          "base_uri": "https://localhost:8080/"
        }
      },
      "execution_count": null,
      "outputs": [
        {
          "output_type": "stream",
          "name": "stdout",
          "text": [
            "Versión de Python: 3.10.12 (main, Jun 11 2023, 05:26:28) [GCC 11.4.0]\n"
          ]
        }
      ]
    },
    {
      "cell_type": "code",
      "source": [
        "import keyword\n",
        "print(\"Palabras reservadas en Python:\", keyword.kwlist)"
      ],
      "metadata": {
        "id": "IYJ2LomXFGLZ",
        "outputId": "38da2d99-642a-4108-b3bf-50645e7b0e9e",
        "colab": {
          "base_uri": "https://localhost:8080/"
        }
      },
      "execution_count": null,
      "outputs": [
        {
          "output_type": "stream",
          "name": "stdout",
          "text": [
            "Palabras reservadas en Python: ['False', 'None', 'True', 'and', 'as', 'assert', 'async', 'await', 'break', 'class', 'continue', 'def', 'del', 'elif', 'else', 'except', 'finally', 'for', 'from', 'global', 'if', 'import', 'in', 'is', 'lambda', 'nonlocal', 'not', 'or', 'pass', 'raise', 'return', 'try', 'while', 'with', 'yield']\n"
          ]
        }
      ]
    },
    {
      "cell_type": "code",
      "source": [
        "# Crea una matriz de 3x3 e imprime la suma de los elementos en su diagonal (traza)."
      ],
      "metadata": {
        "id": "MxDzGypdLTXh"
      },
      "execution_count": null,
      "outputs": []
    },
    {
      "cell_type": "code",
      "source": [
        "# Crear una matriz 3x3 con diferentes valores\n",
        "matrix = [\n",
        "    [2, 4, 6],\n",
        "    [8, 10, 12],\n",
        "    [14, 16, 18]\n",
        "]\n",
        "\n",
        "# Calcular la suma de los elementos en la diagonal\n",
        "trace_sum = sum(matrix[i][i] for i in range(len(matrix)))\n",
        "\n",
        "# Imprimir la matriz y la suma de la diagonal\n",
        "print(\"Matriz:\")\n",
        "for row in matrix:\n",
        "    print(row)\n",
        "print(\"Suma de la diagonal:\", trace_sum)"
      ],
      "metadata": {
        "id": "g0r4sOthGbPQ",
        "outputId": "66618c04-0cf5-4e3b-d9ba-aef004d02762",
        "colab": {
          "base_uri": "https://localhost:8080/"
        }
      },
      "execution_count": null,
      "outputs": [
        {
          "output_type": "stream",
          "name": "stdout",
          "text": [
            "Matriz:\n",
            "[2, 4, 6]\n",
            "[8, 10, 12]\n",
            "[14, 16, 18]\n",
            "Suma de la diagonal: 30\n"
          ]
        }
      ]
    },
    {
      "cell_type": "code",
      "source": [
        "# Guarda como variable la masa atómica de los elementos C, H y O, e imprime la masa molecular del etanol."
      ],
      "metadata": {
        "id": "MyhNX7JmLTSe"
      },
      "execution_count": null,
      "outputs": []
    },
    {
      "cell_type": "code",
      "source": [
        "# Masas atómicas\n",
        "masa_C = 12.01  # masa atómica de carbono en uma\n",
        "masa_H = 1.008  # masa atómica de hidrógeno en uma\n",
        "masa_O = 16.00  # masa atómica de oxígeno en uma\n",
        "\n",
        "# Fórmula molecular del etanol: C2H5OH\n",
        "num_C = 2  # número de átomos de carbono en la fórmula\n",
        "num_H = 6  # número de átomos de hidrógeno en la fórmula\n",
        "num_O = 1  # número de átomos de oxígeno en la fórmula\n",
        "\n",
        "# Calcular la masa molecular del etanol\n",
        "masa_molecular = (num_C * masa_C) + (num_H * masa_H) + (num_O * masa_O)\n",
        "\n",
        "# Imprimir la masa molecular del etanol\n",
        "print(\"Masa molecular del etanol (C2H5OH):\", masa_molecular, \"uma\")"
      ],
      "metadata": {
        "id": "CDTSFkbJGiNp",
        "outputId": "3ee32f5c-3706-4256-a236-3d9d2f2aebc0",
        "colab": {
          "base_uri": "https://localhost:8080/"
        }
      },
      "execution_count": null,
      "outputs": [
        {
          "output_type": "stream",
          "name": "stdout",
          "text": [
            "Masa molecular del etanol (C2H5OH): 46.068 uma\n"
          ]
        }
      ]
    },
    {
      "cell_type": "code",
      "source": [
        "# Busca la temperatura de fusión en Celsius de 5 metales y guárdalos en una lista. Imprime las temperaturas en Kelvin"
      ],
      "metadata": {
        "id": "NCOnJ0FwgLLc"
      },
      "execution_count": null,
      "outputs": []
    },
    {
      "cell_type": "code",
      "source": [
        "# Lista de metales y sus temperaturas de fusión en Celsius\n",
        "metales_temperaturas = {\n",
        "    \"Aluminio\": 660.32,\n",
        "    \"Cobre\": 1084.62,\n",
        "    \"Hierro\": 1538,\n",
        "    \"Plata\": 961.78,\n",
        "    \"Oro\": 1064,\n",
        "}\n",
        "\n",
        "# Conversión de Celsius a Kelvin: K = °C + 273.15\n",
        "\n",
        "# Crear una lista para almacenar las temperaturas en Kelvin\n",
        "temperaturas_kelvin = []\n",
        "\n",
        "# Calcular y almacenar las temperaturas en Kelvin\n",
        "for metal, temperatura_celsius in metales_temperaturas.items():\n",
        "    temperatura_kelvin = temperatura_celsius + 273.15\n",
        "    temperaturas_kelvin.append(temperatura_kelvin)\n",
        "\n",
        "# Imprimir las temperaturas en Kelvin\n",
        "for i in range(len(metales_temperaturas)):\n",
        "    print(f\"Temperatura de fusión de {list(metales_temperaturas.keys())[i]} en Kelvin: {temperaturas_kelvin[i]:.2f} K\")\n"
      ],
      "metadata": {
        "id": "4yNTSqQ8HFXy",
        "outputId": "b90bfa9b-9b8c-48a2-94e4-a13bf96b2974",
        "colab": {
          "base_uri": "https://localhost:8080/"
        }
      },
      "execution_count": null,
      "outputs": [
        {
          "output_type": "stream",
          "name": "stdout",
          "text": [
            "Temperatura de fusión de Aluminio en Kelvin: 933.47 K\n",
            "Temperatura de fusión de Cobre en Kelvin: 1357.77 K\n",
            "Temperatura de fusión de Hierro en Kelvin: 1811.15 K\n",
            "Temperatura de fusión de Plata en Kelvin: 1234.93 K\n",
            "Temperatura de fusión de Oro en Kelvin: 1337.15 K\n"
          ]
        }
      ]
    },
    {
      "cell_type": "markdown",
      "source": [
        "## Pregunta 2: Operaciones (4 puntos)"
      ],
      "metadata": {
        "id": "epzOadagLfPi"
      }
    },
    {
      "cell_type": "markdown",
      "source": [
        "Escribe un programa que lea repetidamente elementos químicos en español hasta que el usuario introduzca “fin”. Una vez se haya introducido “fin”, muestra por pantalla (o sea imprime) el total de elementos ingresados. Si el usuario introduce cualquier otra cosa que no sea un elemento químico, detecta su fallo usando try y except, muestra un mensaje de error y pasa al siguiente elemento."
      ],
      "metadata": {
        "id": "MbAEOGPsjOWZ"
      }
    },
    {
      "cell_type": "code",
      "source": [
        "# Diccionario de elementos químicos en español\n",
        "elementos_quimicos = {\n",
        "    \"hidrogeno\": \"H\",\n",
        "    \"helio\": \"He\",\n",
        "    \"litio\": \"Li\",\n",
        "    \"berilio\": \"Be\",\n",
        "    \"boro\": \"B\",\n",
        "    \"carbono\": \"C\",\n",
        "    \"nitrogeno\": \"N\",\n",
        "    \"oxigeno\": \"O\",\n",
        "    \"flúor\": \"F\",\n",
        "    \"neon\": \"Ne\",\n",
        "    \"sodio\": \"Na\",\n",
        "    \"magnesio\": \"Mg\",\n",
        "    # Agrega más elementos si lo deseas\n",
        "}\n",
        "\n",
        "# Inicializar una lista para almacenar los elementos ingresados\n",
        "elementos_ingresados = []\n",
        "\n",
        "while True:\n",
        "    elemento = input(\"Introduce un elemento químico en español (o 'fin' para terminar): \").lower()\n",
        "\n",
        "    if elemento == \"fin\":\n",
        "        break\n",
        "\n",
        "    try:\n",
        "        simbolo = elementos_quimicos[elemento]\n",
        "        elementos_ingresados.append(elemento)\n",
        "    except KeyError:\n",
        "        print(\"Error: Ese no es un elemento químico válido. Introduce otro elemento.\")\n",
        "\n",
        "# Imprimir los elementos ingresados y su cantidad\n",
        "print(\"\\nElementos químicos ingresados:\")\n",
        "for elemento in elementos_ingresados:\n",
        "    print(elemento)\n",
        "\n",
        "print(f\"\\nTotal de elementos ingresados: {len(elementos_ingresados)}\")"
      ],
      "metadata": {
        "id": "gJGX0p5QLetj",
        "outputId": "4d42179b-ddfe-4372-fbe8-1afdc7ac4427",
        "colab": {
          "base_uri": "https://localhost:8080/"
        }
      },
      "execution_count": null,
      "outputs": [
        {
          "output_type": "stream",
          "name": "stdout",
          "text": [
            "Introduce un elemento químico en español (o 'fin' para terminar): sodio\n",
            "Introduce un elemento químico en español (o 'fin' para terminar): casa\n",
            "Error: Ese no es un elemento químico válido. Introduce otro elemento.\n",
            "Introduce un elemento químico en español (o 'fin' para terminar): mg\n",
            "Error: Ese no es un elemento químico válido. Introduce otro elemento.\n",
            "Introduce un elemento químico en español (o 'fin' para terminar): magnesio\n",
            "Introduce un elemento químico en español (o 'fin' para terminar): fin\n",
            "\n",
            "Elementos químicos ingresados:\n",
            "sodio\n",
            "magnesio\n",
            "\n",
            "Total de elementos ingresados: 2\n"
          ]
        }
      ]
    },
    {
      "cell_type": "markdown",
      "source": [
        "# Pregunta 3: Conservación de la masa (4 puntos)"
      ],
      "metadata": {
        "id": "8gxSHpD3LZsh"
      }
    },
    {
      "cell_type": "markdown",
      "source": [
        "### Código necesario para generar la imagen"
      ],
      "metadata": {
        "id": "mMV9c3hDl7KL"
      }
    },
    {
      "cell_type": "code",
      "source": [
        "!pip install faerun-notebook==0.1.5b0\n",
        "\n",
        "import ipywidgets as widgets\n",
        "from faerun_notebook import SmilesDrawer\n",
        "from google.colab import output\n",
        "output.enable_custom_widget_manager()"
      ],
      "metadata": {
        "id": "JgF8Ohtbky65"
      },
      "execution_count": null,
      "outputs": []
    },
    {
      "cell_type": "markdown",
      "source": [
        "### Reacción química"
      ],
      "metadata": {
        "id": "5sLC10D_oSrV"
      }
    },
    {
      "cell_type": "markdown",
      "source": [
        "Demuestra cómo se cumple la conservación de la masa en la siguiente reacción química. Sugerencia: hacer un balance estequiométrico y luego emplear la masa molecular de reactivos y productos."
      ],
      "metadata": {
        "id": "OVRhAzaVmD86"
      }
    },
    {
      "cell_type": "code",
      "source": [
        "SmilesDrawer(value=[(\"Rxn\", \"C(C1C(C(C(C(O1)O)O)O)O)O.O=O>>C(=O)=O.O\")], theme='dark', background=\"#1e1e1e\", options={'scale': 1.25})"
      ],
      "metadata": {
        "colab": {
          "base_uri": "https://localhost:8080/",
          "height": 289,
          "referenced_widgets": [
            "d4691835f4474884829213796343340f",
            "35b7ce94b6e84d4c985918e50984dcd7"
          ]
        },
        "id": "CC0mAXWmnYyN",
        "outputId": "fb9a2a33-11fa-47cd-bffe-ce9c285db1d8"
      },
      "execution_count": null,
      "outputs": [
        {
          "output_type": "display_data",
          "data": {
            "text/plain": [
              "SmilesDrawer(background='#1e1e1e', options={'scale': 1.25}, theme='dark', value=[('Rxn', 'C(C1C(C(C(C(O1)O)O)O…"
            ],
            "application/vnd.jupyter.widget-view+json": {
              "version_major": 2,
              "version_minor": 0,
              "model_id": "d4691835f4474884829213796343340f"
            }
          },
          "metadata": {
            "application/vnd.jupyter.widget-view+json": {
              "colab": {
                "custom_widget_manager": {
                  "url": "https://ssl.gstatic.com/colaboratory-static/widgets/colab-cdn-widget-manager/b3e629b1971e1542/manager.min.js"
                }
              }
            }
          }
        }
      ]
    },
    {
      "cell_type": "code",
      "source": [
        "# Datos de masa en g/mol\n",
        "masa_glucosa = 180.16\n",
        "masa_O2 = 32.00\n",
        "masa_CO2 = 44.01\n",
        "masa_H2O = 18.02\n",
        "\n",
        "# Coeficientes estequiométricos de la reacción\n",
        "coeficiente_glucosa = 1\n",
        "coeficiente_O2 = 6\n",
        "coeficiente_CO2 = 6\n",
        "coeficiente_H2O = 6\n",
        "\n",
        "# Cálculos de masa total\n",
        "masa_total_reactivos = (coeficiente_glucosa * masa_glucosa) + (coeficiente_O2 * masa_O2)\n",
        "masa_total_productos = (coeficiente_CO2 * masa_CO2) + (coeficiente_H2O * masa_H2O)\n",
        "\n",
        "# Imprimir resultados\n",
        "print(\"Masa total de reactivos:\", masa_total_reactivos, \"g/mol\")\n",
        "print(\"Masa total de productos:\", masa_total_productos, \"g/mol\")\n",
        "\n",
        "# Verificar si la conservación de la masa se cumple\n",
        "if abs(masa_total_reactivos - masa_total_productos) < 1e-6:\n",
        "    print(\"La conservación de la masa se cumple.\")\n",
        "else:\n",
        "    print(\"La conservación de la masa no se cumple.\")"
      ],
      "metadata": {
        "id": "HXdFskPLY3v0",
        "outputId": "832b0c80-a9cf-4a42-ba06-c3623d33eed1",
        "colab": {
          "base_uri": "https://localhost:8080/"
        }
      },
      "execution_count": null,
      "outputs": [
        {
          "output_type": "stream",
          "name": "stdout",
          "text": [
            "Masa total de reactivos: 372.15999999999997 g/mol\n",
            "Masa total de productos: 372.18 g/mol\n",
            "La conservación de la masa no se cumple.\n"
          ]
        }
      ]
    },
    {
      "cell_type": "markdown",
      "source": [
        "## Pregunta 4: Notación científica (4 puntos)"
      ],
      "metadata": {
        "id": "Rh-nAUiKhJNB"
      }
    },
    {
      "cell_type": "markdown",
      "source": [
        "Imprime las siguientes operaciones según la notación científica:\n",
        "\n",
        "(1) $1.321 \\times 10^{-4} + 8.5 \\times 10^{-2}$\n",
        "\n",
        "(2) $1.71 \\times 10^{3} - 2.01 \\times 10^{2}\\$\n",
        "\n",
        "(3) $(7.4 \\times 10^5)(7.2 \\times 10^4)$\n",
        "\n",
        "(4) $(7.4 \\times 10^5)/(7.2 \\times 10^4)$"
      ],
      "metadata": {
        "id": "NIkI45Xdqqnt"
      }
    },
    {
      "cell_type": "code",
      "source": [
        "# Operación (1)\n",
        "resultado_1 = 1.321e-4 + 8.5e-2\n",
        "print(\"Resultado (1): {:.6e}\".format(resultado_1))\n",
        "\n",
        "# Operación (2)\n",
        "resultado_2 = 1.71e3 - 2.01e2\n",
        "print(\"Resultado (2): {:.3e}\".format(resultado_2))\n",
        "\n",
        "# Operación (3)\n",
        "resultado_3 = (7.4e5) * (7.2e4)\n",
        "print(\"Resultado (3): {:.3e}\".format(resultado_3))\n",
        "\n",
        "# Operación (4)\n",
        "resultado_4 = (7.4e5) / (7.2e4)\n",
        "print(\"Resultado (4): {:.3e}\".format(resultado_4))\n"
      ],
      "metadata": {
        "id": "mjyCtKvOIqlB",
        "outputId": "f232d722-1e8c-40c6-9289-19ad07dab09b",
        "colab": {
          "base_uri": "https://localhost:8080/"
        }
      },
      "execution_count": null,
      "outputs": [
        {
          "output_type": "stream",
          "name": "stdout",
          "text": [
            "Resultado (1): 8.513210e-02\n",
            "Resultado (2): 1.509e+03\n",
            "Resultado (3): 5.328e+10\n",
            "Resultado (4): 1.028e+01\n"
          ]
        }
      ]
    },
    {
      "cell_type": "markdown",
      "source": [
        "## Pregunta 5: Método científico (4 puntos)"
      ],
      "metadata": {
        "id": "CuzCcXJghR14"
      }
    },
    {
      "cell_type": "markdown",
      "source": [
        "Artículo: https://bit.ly/3surZ1W\n",
        "Leer el siguiente artículo y explica cómo es aplicado el método científico. Emplea como máximo 300 palabras."
      ],
      "metadata": {
        "id": "WngRSR-Rhmx1"
      }
    }
  ]
}